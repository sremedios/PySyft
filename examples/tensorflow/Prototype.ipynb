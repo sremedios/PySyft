{
 "cells": [
  {
   "cell_type": "code",
   "execution_count": 1,
   "metadata": {},
   "outputs": [],
   "source": [
    "import tensorflow as tf\n",
    "# import local version of pysyft\n",
    "import sys\n",
    "sys.path.append(\"../..\")\n",
    "import syft as sy\n",
    "import random\n",
    "import numpy as np\n",
    "\n",
    "hook = sy.TensorflowHook()"
   ]
  },
  {
   "cell_type": "code",
   "execution_count": 2,
   "metadata": {},
   "outputs": [],
   "source": [
    "# test dataset\n",
    "XOR_X = np.array([[0,0],[0,1],[1,0],[1,1]])\n",
    "XOR_Y = np.array([[0],[1],[1],[0]])"
   ]
  },
  {
   "cell_type": "markdown",
   "metadata": {},
   "source": [
    "# With PySyft"
   ]
  },
  {
   "cell_type": "code",
   "execution_count": 3,
   "metadata": {},
   "outputs": [],
   "source": [
    "me = hook.local_worker\n",
    "#me.id = \"me\" # necessary for building Syft Tensor, in get_tf_override_function this must be a string"
   ]
  },
  {
   "cell_type": "code",
   "execution_count": 4,
   "metadata": {},
   "outputs": [],
   "source": [
    "me.is_client_worker = False"
   ]
  },
  {
   "cell_type": "code",
   "execution_count": 5,
   "metadata": {},
   "outputs": [
    {
     "name": "stderr",
     "output_type": "stream",
     "text": [
      "WARNING:root:Worker 0 already exists. Replacing old worker which could causeunexpected behavior\n",
      "WARNING:root:Worker bob already exists. Replacing old worker which could causeunexpected behavior\n",
      "WARNING:root:Worker alice already exists. Replacing old worker which could causeunexpected behavior\n",
      "WARNING:root:Worker 0 already exists. Replacing old worker which could causeunexpected behavior\n"
     ]
    }
   ],
   "source": [
    "bob = sy.VirtualWorker(id='bob')\n",
    "alice = sy.VirtualWorker(id='alice')\n",
    "\n",
    "bob.add_worker(me)\n",
    "bob.add_worker(alice)\n",
    "\n",
    "me.add_worker(bob)\n",
    "me.add_worker(alice)\n",
    "\n",
    "alice.add_worker(me)\n",
    "alice.add_worker(bob)"
   ]
  },
  {
   "cell_type": "code",
   "execution_count": 6,
   "metadata": {},
   "outputs": [],
   "source": [
    "def get_tf_override_function(attr):\n",
    "    def method(*args, **kwargs):\n",
    "\n",
    "        worker = None\n",
    "        if('worker' in kwargs):\n",
    "            worker = kwargs['worker']\n",
    "            del kwargs['worker']        \n",
    "        \n",
    "        kwargs['name'] = worker.id + \"_\" + kwargs['name']# + \"_\" + str(random.randint(0,10e10))\n",
    "        \n",
    "        cmd, locations, owners = sy.core.frameworks.tensorflow.utils.compile_command(\n",
    "                                                        attr=str(attr),\n",
    "                                                        args=args,\n",
    "                                                        kwargs=kwargs,\n",
    "                                                        has_self=False,\n",
    "                                                        self=None\n",
    "                                                    )\n",
    "        if(len(locations) > 0):\n",
    "            worker = locations[0]\n",
    "        elif worker is not None:\n",
    "            \"\"\n",
    "        else:\n",
    "            worker = sy.local_worker\n",
    "\n",
    "        result = sy.local_worker.send_command(recipient=worker,\n",
    "                                              message=cmd,\n",
    "                                              framework=\"tf\")\n",
    "        return result\n",
    "        \n",
    "    return method\n",
    "\n",
    "tf.Tensor.native__init__ = tf.Tensor.__init__\n",
    "def new___init__(self, *args, **kwargs):\n",
    "    print(\"initializing\")\n",
    "\n",
    "    if 'owner' in kwargs and kwargs['owner'] is not None:\n",
    "        owner = kwargs['owner']\n",
    "    else:\n",
    "        owner = hook.local_worker\n",
    "    \n",
    "    self.native__init__(*args, *kwargs)\n",
    "    \n",
    "    owner.register_object(self)    \n",
    "    \n",
    "tf.Tensor.__init__ = new___init__\n",
    "\n",
    "@property\n",
    "def id(self):\n",
    "    return self.name\n",
    "\n",
    "tf.Tensor.id = id\n",
    "\n",
    "@property\n",
    "def owner(self):\n",
    "    return sy.local_worker.get_worker(self.name.split(\"_\")[0])\n",
    "\n",
    "tf.Tensor.owner = owner\n",
    "\n",
    "def create_pointer(self):\n",
    "    return self\n",
    "\n",
    "tf.Tensor.create_pointer = create_pointer"
   ]
  },
  {
   "cell_type": "code",
   "execution_count": 7,
   "metadata": {
    "scrolled": false
   },
   "outputs": [
    {
     "name": "stdout",
     "output_type": "stream",
     "text": [
      "processing tf call\n",
      "{'command': 'placeholder', 'has_self': False, 'args': ('tf.float32',), 'kwargs': {'shape': [4, 2], 'name': 'bob_x-input'}}\n",
      "process tf.function\n"
     ]
    },
    {
     "ename": "RuntimeError",
     "evalue": "Command \"tf.placeholder\" is not a supported Torch operation.",
     "output_type": "error",
     "traceback": [
      "\u001b[0;31m---------------------------------------------------------------------------\u001b[0m",
      "\u001b[0;31mRuntimeError\u001b[0m                              Traceback (most recent call last)",
      "\u001b[0;32m<ipython-input-7-769e4cf938b4>\u001b[0m in \u001b[0;36m<module>\u001b[0;34m\u001b[0m\n\u001b[0;32m----> 1\u001b[0;31m \u001b[0mresult\u001b[0m \u001b[0;34m=\u001b[0m \u001b[0mget_tf_override_function\u001b[0m\u001b[0;34m(\u001b[0m\u001b[0;34m'placeholder'\u001b[0m\u001b[0;34m)\u001b[0m\u001b[0;34m(\u001b[0m\u001b[0mtf\u001b[0m\u001b[0;34m.\u001b[0m\u001b[0mfloat32\u001b[0m\u001b[0;34m,\u001b[0m \u001b[0mshape\u001b[0m\u001b[0;34m=\u001b[0m\u001b[0;34m[\u001b[0m\u001b[0;36m4\u001b[0m\u001b[0;34m,\u001b[0m\u001b[0;36m2\u001b[0m\u001b[0;34m]\u001b[0m\u001b[0;34m,\u001b[0m \u001b[0mname\u001b[0m\u001b[0;34m=\u001b[0m\u001b[0;34m\"x-input\"\u001b[0m\u001b[0;34m,\u001b[0m \u001b[0mworker\u001b[0m\u001b[0;34m=\u001b[0m\u001b[0mbob\u001b[0m\u001b[0;34m)\u001b[0m\u001b[0;34m\u001b[0m\u001b[0;34m\u001b[0m\u001b[0m\n\u001b[0m\u001b[1;32m      2\u001b[0m \u001b[0mresult_alice\u001b[0m \u001b[0;34m=\u001b[0m \u001b[0mget_tf_override_function\u001b[0m\u001b[0;34m(\u001b[0m\u001b[0;34m'placeholder'\u001b[0m\u001b[0;34m)\u001b[0m\u001b[0;34m(\u001b[0m\u001b[0mtf\u001b[0m\u001b[0;34m.\u001b[0m\u001b[0mfloat32\u001b[0m\u001b[0;34m,\u001b[0m \u001b[0mshape\u001b[0m\u001b[0;34m=\u001b[0m\u001b[0;34m[\u001b[0m\u001b[0;36m4\u001b[0m\u001b[0;34m,\u001b[0m\u001b[0;36m2\u001b[0m\u001b[0;34m]\u001b[0m\u001b[0;34m,\u001b[0m \u001b[0mname\u001b[0m\u001b[0;34m=\u001b[0m\u001b[0;34m\"x-input\"\u001b[0m\u001b[0;34m,\u001b[0m \u001b[0mworker\u001b[0m\u001b[0;34m=\u001b[0m\u001b[0malice\u001b[0m\u001b[0;34m)\u001b[0m\u001b[0;34m\u001b[0m\u001b[0;34m\u001b[0m\u001b[0m\n",
      "\u001b[0;32m<ipython-input-6-f5551637e927>\u001b[0m in \u001b[0;36mmethod\u001b[0;34m(*args, **kwargs)\u001b[0m\n\u001b[1;32m     25\u001b[0m         result = sy.local_worker.send_command(recipient=worker,\n\u001b[1;32m     26\u001b[0m                                               \u001b[0mmessage\u001b[0m\u001b[0;34m=\u001b[0m\u001b[0mcmd\u001b[0m\u001b[0;34m,\u001b[0m\u001b[0;34m\u001b[0m\u001b[0;34m\u001b[0m\u001b[0m\n\u001b[0;32m---> 27\u001b[0;31m                                               framework=\"tf\")\n\u001b[0m\u001b[1;32m     28\u001b[0m         \u001b[0;32mreturn\u001b[0m \u001b[0mresult\u001b[0m\u001b[0;34m\u001b[0m\u001b[0;34m\u001b[0m\u001b[0m\n\u001b[1;32m     29\u001b[0m \u001b[0;34m\u001b[0m\u001b[0m\n",
      "\u001b[0;32m~/projects/PySyft/syft/core/workers/base.py\u001b[0m in \u001b[0;36msend_command\u001b[0;34m(self, recipient, message, framework)\u001b[0m\n\u001b[1;32m   1121\u001b[0m             \u001b[0mmessage\u001b[0m\u001b[0;34m=\u001b[0m\u001b[0mmessage\u001b[0m\u001b[0;34m,\u001b[0m\u001b[0;34m\u001b[0m\u001b[0;34m\u001b[0m\u001b[0m\n\u001b[1;32m   1122\u001b[0m             \u001b[0mmessage_type\u001b[0m\u001b[0;34m=\u001b[0m\u001b[0mframework\u001b[0m\u001b[0;34m+\u001b[0m\u001b[0;34m'_cmd'\u001b[0m\u001b[0;34m,\u001b[0m\u001b[0;34m\u001b[0m\u001b[0;34m\u001b[0m\u001b[0m\n\u001b[0;32m-> 1123\u001b[0;31m             \u001b[0mrecipient\u001b[0m\u001b[0;34m=\u001b[0m\u001b[0mrecipient\u001b[0m\u001b[0;34m\u001b[0m\u001b[0;34m\u001b[0m\u001b[0m\n\u001b[0m\u001b[1;32m   1124\u001b[0m         )\n\u001b[1;32m   1125\u001b[0m \u001b[0;34m\u001b[0m\u001b[0m\n",
      "\u001b[0;32m~/projects/PySyft/syft/core/workers/base.py\u001b[0m in \u001b[0;36msend_msg\u001b[0;34m(self, message, message_type, recipient)\u001b[0m\n\u001b[1;32m    204\u001b[0m         \u001b[0mself\u001b[0m\u001b[0;34m.\u001b[0m\u001b[0mmessage_queue\u001b[0m \u001b[0;34m=\u001b[0m \u001b[0;34m[\u001b[0m\u001b[0;34m]\u001b[0m\u001b[0;34m\u001b[0m\u001b[0;34m\u001b[0m\u001b[0m\n\u001b[1;32m    205\u001b[0m \u001b[0;34m\u001b[0m\u001b[0m\n\u001b[0;32m--> 206\u001b[0;31m         \u001b[0;32mreturn\u001b[0m \u001b[0mself\u001b[0m\u001b[0;34m.\u001b[0m\u001b[0m_send_msg\u001b[0m\u001b[0;34m(\u001b[0m\u001b[0mmessage_wrapper_json\u001b[0m\u001b[0;34m,\u001b[0m \u001b[0mrecipient\u001b[0m\u001b[0;34m)\u001b[0m\u001b[0;34m\u001b[0m\u001b[0;34m\u001b[0m\u001b[0m\n\u001b[0m\u001b[1;32m    207\u001b[0m \u001b[0;34m\u001b[0m\u001b[0m\n\u001b[1;32m    208\u001b[0m     \u001b[0;32mdef\u001b[0m \u001b[0mcompile_composite_message\u001b[0m\u001b[0;34m(\u001b[0m\u001b[0mself\u001b[0m\u001b[0;34m)\u001b[0m\u001b[0;34m:\u001b[0m\u001b[0;34m\u001b[0m\u001b[0;34m\u001b[0m\u001b[0m\n",
      "\u001b[0;32m~/projects/PySyft/syft/core/workers/virtual.py\u001b[0m in \u001b[0;36m_send_msg\u001b[0;34m(self, message_wrapper_json_binary, recipient)\u001b[0m\n\u001b[1;32m     99\u001b[0m         \"\"\"\n\u001b[1;32m    100\u001b[0m \u001b[0;34m\u001b[0m\u001b[0m\n\u001b[0;32m--> 101\u001b[0;31m         \u001b[0;32mreturn\u001b[0m \u001b[0mrecipient\u001b[0m\u001b[0;34m.\u001b[0m\u001b[0mreceive_msg\u001b[0m\u001b[0;34m(\u001b[0m\u001b[0mmessage_wrapper_json_binary\u001b[0m\u001b[0;34m)\u001b[0m\u001b[0;34m\u001b[0m\u001b[0;34m\u001b[0m\u001b[0m\n\u001b[0m",
      "\u001b[0;32m~/projects/PySyft/syft/core/workers/base.py\u001b[0m in \u001b[0;36mreceive_msg\u001b[0;34m(self, message_wrapper_json)\u001b[0m\n\u001b[1;32m    253\u001b[0m         \u001b[0mmessage_wrapper\u001b[0m \u001b[0;34m=\u001b[0m \u001b[0mencode\u001b[0m\u001b[0;34m.\u001b[0m\u001b[0mdecode\u001b[0m\u001b[0;34m(\u001b[0m\u001b[0mmessage_wrapper_json\u001b[0m\u001b[0;34m,\u001b[0m \u001b[0mworker\u001b[0m\u001b[0;34m=\u001b[0m\u001b[0mself\u001b[0m\u001b[0;34m)\u001b[0m\u001b[0;34m\u001b[0m\u001b[0;34m\u001b[0m\u001b[0m\n\u001b[1;32m    254\u001b[0m \u001b[0;34m\u001b[0m\u001b[0m\n\u001b[0;32m--> 255\u001b[0;31m         \u001b[0mresponse\u001b[0m\u001b[0;34m,\u001b[0m \u001b[0mprivate\u001b[0m \u001b[0;34m=\u001b[0m \u001b[0mself\u001b[0m\u001b[0;34m.\u001b[0m\u001b[0mprocess_message_type\u001b[0m\u001b[0;34m(\u001b[0m\u001b[0mmessage_wrapper\u001b[0m\u001b[0;34m)\u001b[0m\u001b[0;34m\u001b[0m\u001b[0;34m\u001b[0m\u001b[0m\n\u001b[0m\u001b[1;32m    256\u001b[0m \u001b[0;34m\u001b[0m\u001b[0m\n\u001b[1;32m    257\u001b[0m         \u001b[0mresponse\u001b[0m \u001b[0;34m=\u001b[0m \u001b[0mencode\u001b[0m\u001b[0;34m.\u001b[0m\u001b[0mencode\u001b[0m\u001b[0;34m(\u001b[0m\u001b[0mresponse\u001b[0m\u001b[0;34m,\u001b[0m \u001b[0mretrieve_pointers\u001b[0m\u001b[0;34m=\u001b[0m\u001b[0;32mFalse\u001b[0m\u001b[0;34m,\u001b[0m \u001b[0mprivate_local\u001b[0m\u001b[0;34m=\u001b[0m\u001b[0mprivate\u001b[0m\u001b[0;34m)\u001b[0m\u001b[0;34m\u001b[0m\u001b[0;34m\u001b[0m\u001b[0m\n",
      "\u001b[0;32m~/projects/PySyft/syft/core/workers/base.py\u001b[0m in \u001b[0;36mprocess_message_type\u001b[0;34m(self, message_wrapper)\u001b[0m\n\u001b[1;32m    336\u001b[0m \u001b[0;34m\u001b[0m\u001b[0m\n\u001b[1;32m    337\u001b[0m         \u001b[0;32melif\u001b[0m \u001b[0mmessage_wrapper\u001b[0m\u001b[0;34m[\u001b[0m\u001b[0;34m'type'\u001b[0m\u001b[0;34m]\u001b[0m \u001b[0;34m==\u001b[0m \u001b[0;34m'tf_cmd'\u001b[0m\u001b[0;34m:\u001b[0m\u001b[0;34m\u001b[0m\u001b[0;34m\u001b[0m\u001b[0m\n\u001b[0;32m--> 338\u001b[0;31m             \u001b[0mresult\u001b[0m \u001b[0;34m=\u001b[0m \u001b[0mself\u001b[0m\u001b[0;34m.\u001b[0m\u001b[0mprocess_tf_command\u001b[0m\u001b[0;34m(\u001b[0m\u001b[0mmessage\u001b[0m\u001b[0;34m)\u001b[0m\u001b[0;34m\u001b[0m\u001b[0;34m\u001b[0m\u001b[0m\n\u001b[0m\u001b[1;32m    339\u001b[0m             \u001b[0;32mreturn\u001b[0m \u001b[0mresult\u001b[0m\u001b[0;34m,\u001b[0m \u001b[0;32mTrue\u001b[0m\u001b[0;34m\u001b[0m\u001b[0;34m\u001b[0m\u001b[0m\n\u001b[1;32m    340\u001b[0m \u001b[0;34m\u001b[0m\u001b[0m\n",
      "\u001b[0;32m~/projects/PySyft/syft/core/workers/base.py\u001b[0m in \u001b[0;36mprocess_tf_command\u001b[0;34m(self, command_msg)\u001b[0m\n\u001b[1;32m    760\u001b[0m         \u001b[0mself_\u001b[0m \u001b[0;34m=\u001b[0m \u001b[0mcommand_msg\u001b[0m\u001b[0;34m[\u001b[0m\u001b[0;34m'self'\u001b[0m\u001b[0;34m]\u001b[0m \u001b[0;32mif\u001b[0m \u001b[0mhas_self\u001b[0m \u001b[0;32melse\u001b[0m \u001b[0;32mNone\u001b[0m\u001b[0;34m\u001b[0m\u001b[0;34m\u001b[0m\u001b[0m\n\u001b[1;32m    761\u001b[0m \u001b[0;34m\u001b[0m\u001b[0m\n\u001b[0;32m--> 762\u001b[0;31m         \u001b[0;32mreturn\u001b[0m \u001b[0mself\u001b[0m\u001b[0;34m.\u001b[0m\u001b[0m_execute_tf_call\u001b[0m\u001b[0;34m(\u001b[0m\u001b[0mattr\u001b[0m\u001b[0;34m,\u001b[0m \u001b[0mself_\u001b[0m\u001b[0;34m,\u001b[0m \u001b[0;34m*\u001b[0m\u001b[0margs\u001b[0m\u001b[0;34m,\u001b[0m \u001b[0;34m**\u001b[0m\u001b[0mkwargs\u001b[0m\u001b[0;34m)\u001b[0m\u001b[0;34m\u001b[0m\u001b[0;34m\u001b[0m\u001b[0m\n\u001b[0m\u001b[1;32m    763\u001b[0m \u001b[0;34m\u001b[0m\u001b[0m\n\u001b[1;32m    764\u001b[0m     \u001b[0;32mdef\u001b[0m \u001b[0m_execute_tf_call\u001b[0m\u001b[0;34m(\u001b[0m\u001b[0mself\u001b[0m\u001b[0;34m,\u001b[0m \u001b[0mattr\u001b[0m\u001b[0;34m,\u001b[0m \u001b[0mself_\u001b[0m\u001b[0;34m,\u001b[0m \u001b[0;34m*\u001b[0m\u001b[0margs\u001b[0m\u001b[0;34m,\u001b[0m \u001b[0;34m**\u001b[0m\u001b[0mkwargs\u001b[0m\u001b[0;34m)\u001b[0m\u001b[0;34m:\u001b[0m\u001b[0;34m\u001b[0m\u001b[0;34m\u001b[0m\u001b[0m\n",
      "\u001b[0;32m~/projects/PySyft/syft/core/workers/base.py\u001b[0m in \u001b[0;36m_execute_tf_call\u001b[0;34m(self, attr, self_, *args, **kwargs)\u001b[0m\n\u001b[1;32m    813\u001b[0m                         \u001b[0mnew_args\u001b[0m\u001b[0;34m.\u001b[0m\u001b[0mappend\u001b[0m\u001b[0;34m(\u001b[0m\u001b[0marg\u001b[0m\u001b[0;34m)\u001b[0m\u001b[0;34m\u001b[0m\u001b[0;34m\u001b[0m\u001b[0m\n\u001b[1;32m    814\u001b[0m \u001b[0;34m\u001b[0m\u001b[0m\n\u001b[0;32m--> 815\u001b[0;31m                 \u001b[0mresult\u001b[0m \u001b[0;34m=\u001b[0m \u001b[0mtf\u001b[0m\u001b[0;34m.\u001b[0m\u001b[0mplaceholder\u001b[0m\u001b[0;34m(\u001b[0m\u001b[0;34m*\u001b[0m\u001b[0mnew_args\u001b[0m\u001b[0;34m,\u001b[0m \u001b[0;34m**\u001b[0m\u001b[0mkwargs\u001b[0m\u001b[0;34m)\u001b[0m\u001b[0;34m\u001b[0m\u001b[0;34m\u001b[0m\u001b[0m\n\u001b[0m\u001b[1;32m    816\u001b[0m \u001b[0;34m\u001b[0m\u001b[0m\n\u001b[1;32m    817\u001b[0m         \u001b[0;32mif\u001b[0m\u001b[0;34m(\u001b[0m\u001b[0mresult\u001b[0m\u001b[0;34m.\u001b[0m\u001b[0mowner\u001b[0m \u001b[0;34m!=\u001b[0m \u001b[0mself\u001b[0m \u001b[0;32mor\u001b[0m \u001b[0mresult\u001b[0m\u001b[0;34m.\u001b[0m\u001b[0mid\u001b[0m \u001b[0;32mnot\u001b[0m \u001b[0;32min\u001b[0m \u001b[0mself\u001b[0m\u001b[0;34m.\u001b[0m\u001b[0m_objects\u001b[0m\u001b[0;34m)\u001b[0m\u001b[0;34m:\u001b[0m\u001b[0;34m\u001b[0m\u001b[0;34m\u001b[0m\u001b[0m\n",
      "\u001b[0;32m~/projects/PySyft/syft/core/frameworks/tensorflow/hook.py\u001b[0m in \u001b[0;36m_execute_function_call\u001b[0;34m(*args, **kwargs)\u001b[0m\n\u001b[1;32m    481\u001b[0m         \u001b[0;32mdef\u001b[0m \u001b[0m_execute_function_call\u001b[0m\u001b[0;34m(\u001b[0m\u001b[0;34m*\u001b[0m\u001b[0margs\u001b[0m\u001b[0;34m,\u001b[0m \u001b[0;34m**\u001b[0m\u001b[0mkwargs\u001b[0m\u001b[0;34m)\u001b[0m\u001b[0;34m:\u001b[0m\u001b[0;34m\u001b[0m\u001b[0;34m\u001b[0m\u001b[0m\n\u001b[1;32m    482\u001b[0m             \u001b[0mworker\u001b[0m \u001b[0;34m=\u001b[0m \u001b[0mhook_self\u001b[0m\u001b[0;34m.\u001b[0m\u001b[0mlocal_worker\u001b[0m\u001b[0;34m\u001b[0m\u001b[0;34m\u001b[0m\u001b[0m\n\u001b[0;32m--> 483\u001b[0;31m             \u001b[0;32mreturn\u001b[0m \u001b[0mworker\u001b[0m\u001b[0;34m.\u001b[0m\u001b[0m_execute_call\u001b[0m\u001b[0;34m(\u001b[0m\u001b[0mattr\u001b[0m\u001b[0;34m,\u001b[0m \u001b[0;32mNone\u001b[0m\u001b[0;34m,\u001b[0m \u001b[0;34m*\u001b[0m\u001b[0margs\u001b[0m\u001b[0;34m,\u001b[0m \u001b[0;34m**\u001b[0m\u001b[0mkwargs\u001b[0m\u001b[0;34m)\u001b[0m\u001b[0;34m\u001b[0m\u001b[0;34m\u001b[0m\u001b[0m\n\u001b[0m\u001b[1;32m    484\u001b[0m \u001b[0;34m\u001b[0m\u001b[0m\n\u001b[1;32m    485\u001b[0m         \u001b[0;32mreturn\u001b[0m \u001b[0m_execute_function_call\u001b[0m\u001b[0;34m\u001b[0m\u001b[0;34m\u001b[0m\u001b[0m\n",
      "\u001b[0;32m~/projects/PySyft/syft/core/workers/base.py\u001b[0m in \u001b[0;36m_execute_call\u001b[0;34m(self, attr, self_, *args, **kwargs)\u001b[0m\n\u001b[1;32m   1000\u001b[0m             \u001b[0mcommand\u001b[0m \u001b[0;34m=\u001b[0m \u001b[0mtorch\u001b[0m\u001b[0;34m.\u001b[0m\u001b[0m_command_guard\u001b[0m\u001b[0;34m(\u001b[0m\u001b[0mattr\u001b[0m\u001b[0;34m,\u001b[0m \u001b[0mtorch\u001b[0m\u001b[0;34m.\u001b[0m\u001b[0mtensorvar_methods\u001b[0m\u001b[0;34m)\u001b[0m\u001b[0;34m\u001b[0m\u001b[0;34m\u001b[0m\u001b[0m\n\u001b[1;32m   1001\u001b[0m         \u001b[0;32melse\u001b[0m\u001b[0;34m:\u001b[0m\u001b[0;34m\u001b[0m\u001b[0;34m\u001b[0m\u001b[0m\n\u001b[0;32m-> 1002\u001b[0;31m             \u001b[0mcommand\u001b[0m \u001b[0;34m=\u001b[0m \u001b[0mtorch\u001b[0m\u001b[0;34m.\u001b[0m\u001b[0m_command_guard\u001b[0m\u001b[0;34m(\u001b[0m\u001b[0mattr\u001b[0m\u001b[0;34m,\u001b[0m \u001b[0mtorch\u001b[0m\u001b[0;34m.\u001b[0m\u001b[0mtorch_modules\u001b[0m\u001b[0;34m)\u001b[0m\u001b[0;34m\u001b[0m\u001b[0;34m\u001b[0m\u001b[0m\n\u001b[0m\u001b[1;32m   1003\u001b[0m \u001b[0;34m\u001b[0m\u001b[0m\n\u001b[1;32m   1004\u001b[0m         raw_command = {\n",
      "\u001b[0;32m~/projects/PySyft/syft/core/frameworks/torch/__init__.py\u001b[0m in \u001b[0;36m_command_guard\u001b[0;34m(command, allowed)\u001b[0m\n\u001b[1;32m     95\u001b[0m     \u001b[0;32mif\u001b[0m \u001b[0mcommand\u001b[0m \u001b[0;32mnot\u001b[0m \u001b[0;32min\u001b[0m \u001b[0mallowed\u001b[0m\u001b[0;34m:\u001b[0m\u001b[0;34m\u001b[0m\u001b[0;34m\u001b[0m\u001b[0m\n\u001b[1;32m     96\u001b[0m         raise RuntimeError(\n\u001b[0;32m---> 97\u001b[0;31m             'Command \"{}\" is not a supported Torch operation.'.format(command))\n\u001b[0m\u001b[1;32m     98\u001b[0m     \u001b[0;32mreturn\u001b[0m \u001b[0mcommand\u001b[0m\u001b[0;34m\u001b[0m\u001b[0;34m\u001b[0m\u001b[0m\n\u001b[1;32m     99\u001b[0m \u001b[0;34m\u001b[0m\u001b[0m\n",
      "\u001b[0;31mRuntimeError\u001b[0m: Command \"tf.placeholder\" is not a supported Torch operation."
     ]
    }
   ],
   "source": [
    "result = get_tf_override_function('placeholder')(tf.float32, shape=[4,2], name=\"x-input\", worker=bob)\n",
    "result_alice = get_tf_override_function('placeholder')(tf.float32, shape=[4,2], name=\"x-input\", worker=alice)"
   ]
  },
  {
   "cell_type": "code",
   "execution_count": 10,
   "metadata": {},
   "outputs": [
    {
     "data": {
      "text/plain": [
       "{}"
      ]
     },
     "execution_count": 10,
     "metadata": {},
     "output_type": "execute_result"
    }
   ],
   "source": [
    "bob._objects"
   ]
  },
  {
   "cell_type": "code",
   "execution_count": 11,
   "metadata": {},
   "outputs": [
    {
     "data": {
      "text/plain": [
       "{'alice_x-input:0': <tf.Tensor 'alice_x-input:0' shape=(4, 2) dtype=float32>,\n",
       " 'alice_x-input_1:0': <tf.Tensor 'alice_x-input_1:0' shape=(4, 2) dtype=float32>}"
      ]
     },
     "execution_count": 11,
     "metadata": {},
     "output_type": "execute_result"
    }
   ],
   "source": [
    "alice._objects"
   ]
  },
  {
   "cell_type": "code",
   "execution_count": 12,
   "metadata": {},
   "outputs": [
    {
     "ename": "KeyError",
     "evalue": "'bob_x-input:0'",
     "output_type": "error",
     "traceback": [
      "\u001b[0;31m---------------------------------------------------------------------------\u001b[0m",
      "\u001b[0;31mKeyError\u001b[0m                                  Traceback (most recent call last)",
      "\u001b[0;32m<ipython-input-12-9f235dfffb99>\u001b[0m in \u001b[0;36m<module>\u001b[0;34m\u001b[0m\n\u001b[0;32m----> 1\u001b[0;31m \u001b[0mme\u001b[0m\u001b[0;34m.\u001b[0m\u001b[0m_objects\u001b[0m\u001b[0;34m[\u001b[0m\u001b[0;34m'bob_x-input:0'\u001b[0m\u001b[0;34m]\u001b[0m\u001b[0;34m.\u001b[0m\u001b[0mid\u001b[0m\u001b[0;34m\u001b[0m\u001b[0;34m\u001b[0m\u001b[0m\n\u001b[0m",
      "\u001b[0;31mKeyError\u001b[0m: 'bob_x-input:0'"
     ]
    }
   ],
   "source": [
    "me._objects['bob_x-input:0'].id"
   ]
  },
  {
   "cell_type": "code",
   "execution_count": 13,
   "metadata": {},
   "outputs": [
    {
     "data": {
      "text/plain": [
       "{'thing': 'TensorPointer'}"
      ]
     },
     "execution_count": 13,
     "metadata": {},
     "output_type": "execute_result"
    }
   ],
   "source": [
    "result_alice"
   ]
  },
  {
   "cell_type": "code",
   "execution_count": 16,
   "metadata": {},
   "outputs": [],
   "source": [
    "class PointerVariable(tf.Variable):\n",
    "    def __add__(self, other):\n",
    "        return self.__sub__(other)\n",
    "    #def __new__(self, *args, **kwargs):\n",
    "    #    super().__init__(self, *args, **kwargs)\n",
    "    #    print (\"initializing\")"
   ]
  },
  {
   "cell_type": "code",
   "execution_count": 17,
   "metadata": {
    "scrolled": false
   },
   "outputs": [
    {
     "name": "stderr",
     "output_type": "stream",
     "text": [
      "--- Logging error ---\n",
      "Traceback (most recent call last):\n",
      "  File \"/home/sam/miniconda3/envs/pysyft/lib/python3.6/logging/__init__.py\", line 994, in emit\n",
      "    msg = self.format(record)\n",
      "  File \"/home/sam/miniconda3/envs/pysyft/lib/python3.6/logging/__init__.py\", line 840, in format\n",
      "    return fmt.format(record)\n",
      "  File \"/home/sam/miniconda3/envs/pysyft/lib/python3.6/logging/__init__.py\", line 577, in format\n",
      "    record.message = record.getMessage()\n",
      "  File \"/home/sam/miniconda3/envs/pysyft/lib/python3.6/logging/__init__.py\", line 338, in getMessage\n",
      "    msg = msg % self.args\n",
      "TypeError: not all arguments converted during string formatting\n",
      "Call stack:\n",
      "  File \"/home/sam/miniconda3/envs/pysyft/lib/python3.6/runpy.py\", line 193, in _run_module_as_main\n",
      "    \"__main__\", mod_spec)\n",
      "  File \"/home/sam/miniconda3/envs/pysyft/lib/python3.6/runpy.py\", line 85, in _run_code\n",
      "    exec(code, run_globals)\n",
      "  File \"/home/sam/miniconda3/envs/pysyft/lib/python3.6/site-packages/ipykernel_launcher.py\", line 16, in <module>\n",
      "    app.launch_new_instance()\n",
      "  File \"/home/sam/miniconda3/envs/pysyft/lib/python3.6/site-packages/traitlets/config/application.py\", line 658, in launch_instance\n",
      "    app.start()\n",
      "  File \"/home/sam/miniconda3/envs/pysyft/lib/python3.6/site-packages/ipykernel/kernelapp.py\", line 505, in start\n",
      "    self.io_loop.start()\n",
      "  File \"/home/sam/miniconda3/envs/pysyft/lib/python3.6/site-packages/tornado/platform/asyncio.py\", line 132, in start\n",
      "    self.asyncio_loop.run_forever()\n",
      "  File \"/home/sam/miniconda3/envs/pysyft/lib/python3.6/asyncio/base_events.py\", line 427, in run_forever\n",
      "    self._run_once()\n",
      "  File \"/home/sam/miniconda3/envs/pysyft/lib/python3.6/asyncio/base_events.py\", line 1440, in _run_once\n",
      "    handle._run()\n",
      "  File \"/home/sam/miniconda3/envs/pysyft/lib/python3.6/asyncio/events.py\", line 145, in _run\n",
      "    self._callback(*self._args)\n",
      "  File \"/home/sam/miniconda3/envs/pysyft/lib/python3.6/site-packages/tornado/ioloop.py\", line 758, in _run_callback\n",
      "    ret = callback()\n",
      "  File \"/home/sam/miniconda3/envs/pysyft/lib/python3.6/site-packages/tornado/stack_context.py\", line 300, in null_wrapper\n",
      "    return fn(*args, **kwargs)\n",
      "  File \"/home/sam/miniconda3/envs/pysyft/lib/python3.6/site-packages/tornado/gen.py\", line 1233, in inner\n",
      "    self.run()\n",
      "  File \"/home/sam/miniconda3/envs/pysyft/lib/python3.6/site-packages/tornado/gen.py\", line 1147, in run\n",
      "    yielded = self.gen.send(value)\n",
      "  File \"/home/sam/miniconda3/envs/pysyft/lib/python3.6/site-packages/ipykernel/kernelbase.py\", line 357, in process_one\n",
      "    yield gen.maybe_future(dispatch(*args))\n",
      "  File \"/home/sam/miniconda3/envs/pysyft/lib/python3.6/site-packages/tornado/gen.py\", line 326, in wrapper\n",
      "    yielded = next(result)\n",
      "  File \"/home/sam/miniconda3/envs/pysyft/lib/python3.6/site-packages/ipykernel/kernelbase.py\", line 267, in dispatch_shell\n",
      "    yield gen.maybe_future(handler(stream, idents, msg))\n",
      "  File \"/home/sam/miniconda3/envs/pysyft/lib/python3.6/site-packages/tornado/gen.py\", line 326, in wrapper\n",
      "    yielded = next(result)\n",
      "  File \"/home/sam/miniconda3/envs/pysyft/lib/python3.6/site-packages/ipykernel/kernelbase.py\", line 534, in execute_request\n",
      "    user_expressions, allow_stdin,\n",
      "  File \"/home/sam/miniconda3/envs/pysyft/lib/python3.6/site-packages/tornado/gen.py\", line 326, in wrapper\n",
      "    yielded = next(result)\n",
      "  File \"/home/sam/miniconda3/envs/pysyft/lib/python3.6/site-packages/ipykernel/ipkernel.py\", line 294, in do_execute\n",
      "    res = shell.run_cell(code, store_history=store_history, silent=silent)\n",
      "  File \"/home/sam/miniconda3/envs/pysyft/lib/python3.6/site-packages/ipykernel/zmqshell.py\", line 536, in run_cell\n",
      "    return super(ZMQInteractiveShell, self).run_cell(*args, **kwargs)\n",
      "  File \"/home/sam/miniconda3/envs/pysyft/lib/python3.6/site-packages/IPython/core/interactiveshell.py\", line 2819, in run_cell\n",
      "    raw_cell, store_history, silent, shell_futures)\n",
      "  File \"/home/sam/miniconda3/envs/pysyft/lib/python3.6/site-packages/IPython/core/interactiveshell.py\", line 2845, in _run_cell\n",
      "    return runner(coro)\n",
      "  File \"/home/sam/miniconda3/envs/pysyft/lib/python3.6/site-packages/IPython/core/async_helpers.py\", line 67, in _pseudo_sync_runner\n",
      "    coro.send(None)\n",
      "  File \"/home/sam/miniconda3/envs/pysyft/lib/python3.6/site-packages/IPython/core/interactiveshell.py\", line 3020, in run_cell_async\n",
      "    interactivity=interactivity, compiler=compiler, result=result)\n",
      "  File \"/home/sam/miniconda3/envs/pysyft/lib/python3.6/site-packages/IPython/core/interactiveshell.py\", line 3185, in run_ast_nodes\n",
      "    if (yield from self.run_code(code, result)):\n",
      "  File \"/home/sam/miniconda3/envs/pysyft/lib/python3.6/site-packages/IPython/core/interactiveshell.py\", line 3267, in run_code\n",
      "    exec(code_obj, self.user_global_ns, self.user_ns)\n",
      "  File \"<ipython-input-17-1dce7a9fac72>\", line 1, in <module>\n",
      "    pv = PointerVariable(tf.zeros([2]), name=\"pointer\")\n",
      "  File \"/home/sam/miniconda3/envs/pysyft/lib/python3.6/site-packages/tensorflow/python/ops/array_ops.py\", line 1551, in zeros\n",
      "    output = _constant_if_small(zero, shape, dtype, name)\n",
      "  File \"/home/sam/miniconda3/envs/pysyft/lib/python3.6/site-packages/tensorflow/python/ops/array_ops.py\", line 1509, in _constant_if_small\n",
      "    return constant(value, shape=shape, dtype=dtype, name=name)\n",
      "  File \"/home/sam/miniconda3/envs/pysyft/lib/python3.6/site-packages/tensorflow/python/framework/constant_op.py\", line 214, in constant\n",
      "    name=name).outputs[0]\n",
      "  File \"/home/sam/miniconda3/envs/pysyft/lib/python3.6/site-packages/tensorflow/python/util/deprecation.py\", line 488, in new_func\n",
      "    return func(*args, **kwargs)\n",
      "  File \"/home/sam/miniconda3/envs/pysyft/lib/python3.6/site-packages/tensorflow/python/framework/ops.py\", line 3274, in create_op\n",
      "    op_def=op_def)\n",
      "  File \"/home/sam/miniconda3/envs/pysyft/lib/python3.6/site-packages/tensorflow/python/framework/ops.py\", line 1801, in __init__\n",
      "    for i, output_type in enumerate(output_types)\n",
      "  File \"/home/sam/miniconda3/envs/pysyft/lib/python3.6/site-packages/tensorflow/python/framework/ops.py\", line 1801, in <listcomp>\n",
      "    for i, output_type in enumerate(output_types)\n",
      "  File \"<ipython-input-6-249c1850a0a5>\", line 43, in new___init__\n",
      "    owner.register_object(self)\n",
      "  File \"../../syft/core/workers/base.py\", line 710, in register_object\n",
      "    print(obj.owner)\n",
      "  File \"<ipython-input-6-249c1850a0a5>\", line 55, in owner\n",
      "    return sy.local_worker.get_worker(self.name.split(\"_\")[0])\n",
      "  File \"../../syft/core/workers/base.py\", line 466, in get_worker\n",
      "    logging.warning('Worker', self.id, 'couldnt recognize worker', id_or_worker)\n",
      "Message: 'Worker'\n",
      "Arguments: ('me', 'couldnt recognize worker', 'zeros')\n",
      "--- Logging error ---\n",
      "Traceback (most recent call last):\n",
      "  File \"/home/sam/miniconda3/envs/pysyft/lib/python3.6/logging/__init__.py\", line 994, in emit\n",
      "    msg = self.format(record)\n",
      "  File \"/home/sam/miniconda3/envs/pysyft/lib/python3.6/logging/__init__.py\", line 840, in format\n",
      "    return fmt.format(record)\n",
      "  File \"/home/sam/miniconda3/envs/pysyft/lib/python3.6/logging/__init__.py\", line 577, in format\n",
      "    record.message = record.getMessage()\n",
      "  File \"/home/sam/miniconda3/envs/pysyft/lib/python3.6/logging/__init__.py\", line 338, in getMessage\n",
      "    msg = msg % self.args\n",
      "TypeError: not all arguments converted during string formatting\n",
      "Call stack:\n",
      "  File \"/home/sam/miniconda3/envs/pysyft/lib/python3.6/runpy.py\", line 193, in _run_module_as_main\n",
      "    \"__main__\", mod_spec)\n",
      "  File \"/home/sam/miniconda3/envs/pysyft/lib/python3.6/runpy.py\", line 85, in _run_code\n",
      "    exec(code, run_globals)\n",
      "  File \"/home/sam/miniconda3/envs/pysyft/lib/python3.6/site-packages/ipykernel_launcher.py\", line 16, in <module>\n",
      "    app.launch_new_instance()\n",
      "  File \"/home/sam/miniconda3/envs/pysyft/lib/python3.6/site-packages/traitlets/config/application.py\", line 658, in launch_instance\n",
      "    app.start()\n",
      "  File \"/home/sam/miniconda3/envs/pysyft/lib/python3.6/site-packages/ipykernel/kernelapp.py\", line 505, in start\n",
      "    self.io_loop.start()\n",
      "  File \"/home/sam/miniconda3/envs/pysyft/lib/python3.6/site-packages/tornado/platform/asyncio.py\", line 132, in start\n",
      "    self.asyncio_loop.run_forever()\n",
      "  File \"/home/sam/miniconda3/envs/pysyft/lib/python3.6/asyncio/base_events.py\", line 427, in run_forever\n",
      "    self._run_once()\n",
      "  File \"/home/sam/miniconda3/envs/pysyft/lib/python3.6/asyncio/base_events.py\", line 1440, in _run_once\n",
      "    handle._run()\n",
      "  File \"/home/sam/miniconda3/envs/pysyft/lib/python3.6/asyncio/events.py\", line 145, in _run\n",
      "    self._callback(*self._args)\n",
      "  File \"/home/sam/miniconda3/envs/pysyft/lib/python3.6/site-packages/tornado/ioloop.py\", line 758, in _run_callback\n",
      "    ret = callback()\n",
      "  File \"/home/sam/miniconda3/envs/pysyft/lib/python3.6/site-packages/tornado/stack_context.py\", line 300, in null_wrapper\n",
      "    return fn(*args, **kwargs)\n",
      "  File \"/home/sam/miniconda3/envs/pysyft/lib/python3.6/site-packages/tornado/gen.py\", line 1233, in inner\n",
      "    self.run()\n",
      "  File \"/home/sam/miniconda3/envs/pysyft/lib/python3.6/site-packages/tornado/gen.py\", line 1147, in run\n",
      "    yielded = self.gen.send(value)\n",
      "  File \"/home/sam/miniconda3/envs/pysyft/lib/python3.6/site-packages/ipykernel/kernelbase.py\", line 357, in process_one\n",
      "    yield gen.maybe_future(dispatch(*args))\n",
      "  File \"/home/sam/miniconda3/envs/pysyft/lib/python3.6/site-packages/tornado/gen.py\", line 326, in wrapper\n",
      "    yielded = next(result)\n",
      "  File \"/home/sam/miniconda3/envs/pysyft/lib/python3.6/site-packages/ipykernel/kernelbase.py\", line 267, in dispatch_shell\n",
      "    yield gen.maybe_future(handler(stream, idents, msg))\n",
      "  File \"/home/sam/miniconda3/envs/pysyft/lib/python3.6/site-packages/tornado/gen.py\", line 326, in wrapper\n",
      "    yielded = next(result)\n",
      "  File \"/home/sam/miniconda3/envs/pysyft/lib/python3.6/site-packages/ipykernel/kernelbase.py\", line 534, in execute_request\n",
      "    user_expressions, allow_stdin,\n",
      "  File \"/home/sam/miniconda3/envs/pysyft/lib/python3.6/site-packages/tornado/gen.py\", line 326, in wrapper\n",
      "    yielded = next(result)\n",
      "  File \"/home/sam/miniconda3/envs/pysyft/lib/python3.6/site-packages/ipykernel/ipkernel.py\", line 294, in do_execute\n",
      "    res = shell.run_cell(code, store_history=store_history, silent=silent)\n",
      "  File \"/home/sam/miniconda3/envs/pysyft/lib/python3.6/site-packages/ipykernel/zmqshell.py\", line 536, in run_cell\n",
      "    return super(ZMQInteractiveShell, self).run_cell(*args, **kwargs)\n",
      "  File \"/home/sam/miniconda3/envs/pysyft/lib/python3.6/site-packages/IPython/core/interactiveshell.py\", line 2819, in run_cell\n",
      "    raw_cell, store_history, silent, shell_futures)\n",
      "  File \"/home/sam/miniconda3/envs/pysyft/lib/python3.6/site-packages/IPython/core/interactiveshell.py\", line 2845, in _run_cell\n",
      "    return runner(coro)\n",
      "  File \"/home/sam/miniconda3/envs/pysyft/lib/python3.6/site-packages/IPython/core/async_helpers.py\", line 67, in _pseudo_sync_runner\n",
      "    coro.send(None)\n",
      "  File \"/home/sam/miniconda3/envs/pysyft/lib/python3.6/site-packages/IPython/core/interactiveshell.py\", line 3020, in run_cell_async\n",
      "    interactivity=interactivity, compiler=compiler, result=result)\n",
      "  File \"/home/sam/miniconda3/envs/pysyft/lib/python3.6/site-packages/IPython/core/interactiveshell.py\", line 3185, in run_ast_nodes\n",
      "    if (yield from self.run_code(code, result)):\n",
      "  File \"/home/sam/miniconda3/envs/pysyft/lib/python3.6/site-packages/IPython/core/interactiveshell.py\", line 3267, in run_code\n",
      "    exec(code_obj, self.user_global_ns, self.user_ns)\n",
      "  File \"<ipython-input-17-1dce7a9fac72>\", line 1, in <module>\n",
      "    pv = PointerVariable(tf.zeros([2]), name=\"pointer\")\n",
      "  File \"/home/sam/miniconda3/envs/pysyft/lib/python3.6/site-packages/tensorflow/python/ops/array_ops.py\", line 1551, in zeros\n",
      "    output = _constant_if_small(zero, shape, dtype, name)\n",
      "  File \"/home/sam/miniconda3/envs/pysyft/lib/python3.6/site-packages/tensorflow/python/ops/array_ops.py\", line 1509, in _constant_if_small\n",
      "    return constant(value, shape=shape, dtype=dtype, name=name)\n",
      "  File \"/home/sam/miniconda3/envs/pysyft/lib/python3.6/site-packages/tensorflow/python/framework/constant_op.py\", line 214, in constant\n",
      "    name=name).outputs[0]\n",
      "  File \"/home/sam/miniconda3/envs/pysyft/lib/python3.6/site-packages/tensorflow/python/util/deprecation.py\", line 488, in new_func\n",
      "    return func(*args, **kwargs)\n",
      "  File \"/home/sam/miniconda3/envs/pysyft/lib/python3.6/site-packages/tensorflow/python/framework/ops.py\", line 3274, in create_op\n",
      "    op_def=op_def)\n",
      "  File \"/home/sam/miniconda3/envs/pysyft/lib/python3.6/site-packages/tensorflow/python/framework/ops.py\", line 1801, in __init__\n",
      "    for i, output_type in enumerate(output_types)\n",
      "  File \"/home/sam/miniconda3/envs/pysyft/lib/python3.6/site-packages/tensorflow/python/framework/ops.py\", line 1801, in <listcomp>\n",
      "    for i, output_type in enumerate(output_types)\n",
      "  File \"<ipython-input-6-249c1850a0a5>\", line 43, in new___init__\n",
      "    owner.register_object(self)\n",
      "  File \"../../syft/core/workers/base.py\", line 711, in register_object\n",
      "    print(type(obj.owner))\n",
      "  File \"<ipython-input-6-249c1850a0a5>\", line 55, in owner\n",
      "    return sy.local_worker.get_worker(self.name.split(\"_\")[0])\n",
      "  File \"../../syft/core/workers/base.py\", line 466, in get_worker\n",
      "    logging.warning('Worker', self.id, 'couldnt recognize worker', id_or_worker)\n",
      "Message: 'Worker'\n",
      "Arguments: ('me', 'couldnt recognize worker', 'zeros')\n",
      "--- Logging error ---\n",
      "Traceback (most recent call last):\n",
      "  File \"/home/sam/miniconda3/envs/pysyft/lib/python3.6/logging/__init__.py\", line 994, in emit\n",
      "    msg = self.format(record)\n",
      "  File \"/home/sam/miniconda3/envs/pysyft/lib/python3.6/logging/__init__.py\", line 840, in format\n",
      "    return fmt.format(record)\n",
      "  File \"/home/sam/miniconda3/envs/pysyft/lib/python3.6/logging/__init__.py\", line 577, in format\n",
      "    record.message = record.getMessage()\n",
      "  File \"/home/sam/miniconda3/envs/pysyft/lib/python3.6/logging/__init__.py\", line 338, in getMessage\n",
      "    msg = msg % self.args\n",
      "TypeError: not all arguments converted during string formatting\n",
      "Call stack:\n",
      "  File \"/home/sam/miniconda3/envs/pysyft/lib/python3.6/runpy.py\", line 193, in _run_module_as_main\n",
      "    \"__main__\", mod_spec)\n",
      "  File \"/home/sam/miniconda3/envs/pysyft/lib/python3.6/runpy.py\", line 85, in _run_code\n",
      "    exec(code, run_globals)\n",
      "  File \"/home/sam/miniconda3/envs/pysyft/lib/python3.6/site-packages/ipykernel_launcher.py\", line 16, in <module>\n",
      "    app.launch_new_instance()\n",
      "  File \"/home/sam/miniconda3/envs/pysyft/lib/python3.6/site-packages/traitlets/config/application.py\", line 658, in launch_instance\n",
      "    app.start()\n",
      "  File \"/home/sam/miniconda3/envs/pysyft/lib/python3.6/site-packages/ipykernel/kernelapp.py\", line 505, in start\n",
      "    self.io_loop.start()\n",
      "  File \"/home/sam/miniconda3/envs/pysyft/lib/python3.6/site-packages/tornado/platform/asyncio.py\", line 132, in start\n",
      "    self.asyncio_loop.run_forever()\n",
      "  File \"/home/sam/miniconda3/envs/pysyft/lib/python3.6/asyncio/base_events.py\", line 427, in run_forever\n",
      "    self._run_once()\n",
      "  File \"/home/sam/miniconda3/envs/pysyft/lib/python3.6/asyncio/base_events.py\", line 1440, in _run_once\n",
      "    handle._run()\n",
      "  File \"/home/sam/miniconda3/envs/pysyft/lib/python3.6/asyncio/events.py\", line 145, in _run\n",
      "    self._callback(*self._args)\n",
      "  File \"/home/sam/miniconda3/envs/pysyft/lib/python3.6/site-packages/tornado/ioloop.py\", line 758, in _run_callback\n",
      "    ret = callback()\n",
      "  File \"/home/sam/miniconda3/envs/pysyft/lib/python3.6/site-packages/tornado/stack_context.py\", line 300, in null_wrapper\n",
      "    return fn(*args, **kwargs)\n",
      "  File \"/home/sam/miniconda3/envs/pysyft/lib/python3.6/site-packages/tornado/gen.py\", line 1233, in inner\n",
      "    self.run()\n",
      "  File \"/home/sam/miniconda3/envs/pysyft/lib/python3.6/site-packages/tornado/gen.py\", line 1147, in run\n",
      "    yielded = self.gen.send(value)\n",
      "  File \"/home/sam/miniconda3/envs/pysyft/lib/python3.6/site-packages/ipykernel/kernelbase.py\", line 357, in process_one\n",
      "    yield gen.maybe_future(dispatch(*args))\n",
      "  File \"/home/sam/miniconda3/envs/pysyft/lib/python3.6/site-packages/tornado/gen.py\", line 326, in wrapper\n",
      "    yielded = next(result)\n",
      "  File \"/home/sam/miniconda3/envs/pysyft/lib/python3.6/site-packages/ipykernel/kernelbase.py\", line 267, in dispatch_shell\n",
      "    yield gen.maybe_future(handler(stream, idents, msg))\n",
      "  File \"/home/sam/miniconda3/envs/pysyft/lib/python3.6/site-packages/tornado/gen.py\", line 326, in wrapper\n",
      "    yielded = next(result)\n",
      "  File \"/home/sam/miniconda3/envs/pysyft/lib/python3.6/site-packages/ipykernel/kernelbase.py\", line 534, in execute_request\n",
      "    user_expressions, allow_stdin,\n",
      "  File \"/home/sam/miniconda3/envs/pysyft/lib/python3.6/site-packages/tornado/gen.py\", line 326, in wrapper\n",
      "    yielded = next(result)\n",
      "  File \"/home/sam/miniconda3/envs/pysyft/lib/python3.6/site-packages/ipykernel/ipkernel.py\", line 294, in do_execute\n",
      "    res = shell.run_cell(code, store_history=store_history, silent=silent)\n",
      "  File \"/home/sam/miniconda3/envs/pysyft/lib/python3.6/site-packages/ipykernel/zmqshell.py\", line 536, in run_cell\n",
      "    return super(ZMQInteractiveShell, self).run_cell(*args, **kwargs)\n",
      "  File \"/home/sam/miniconda3/envs/pysyft/lib/python3.6/site-packages/IPython/core/interactiveshell.py\", line 2819, in run_cell\n",
      "    raw_cell, store_history, silent, shell_futures)\n",
      "  File \"/home/sam/miniconda3/envs/pysyft/lib/python3.6/site-packages/IPython/core/interactiveshell.py\", line 2845, in _run_cell\n",
      "    return runner(coro)\n",
      "  File \"/home/sam/miniconda3/envs/pysyft/lib/python3.6/site-packages/IPython/core/async_helpers.py\", line 67, in _pseudo_sync_runner\n",
      "    coro.send(None)\n",
      "  File \"/home/sam/miniconda3/envs/pysyft/lib/python3.6/site-packages/IPython/core/interactiveshell.py\", line 3020, in run_cell_async\n",
      "    interactivity=interactivity, compiler=compiler, result=result)\n",
      "  File \"/home/sam/miniconda3/envs/pysyft/lib/python3.6/site-packages/IPython/core/interactiveshell.py\", line 3185, in run_ast_nodes\n",
      "    if (yield from self.run_code(code, result)):\n",
      "  File \"/home/sam/miniconda3/envs/pysyft/lib/python3.6/site-packages/IPython/core/interactiveshell.py\", line 3267, in run_code\n",
      "    exec(code_obj, self.user_global_ns, self.user_ns)\n",
      "  File \"<ipython-input-17-1dce7a9fac72>\", line 1, in <module>\n",
      "    pv = PointerVariable(tf.zeros([2]), name=\"pointer\")\n",
      "  File \"/home/sam/miniconda3/envs/pysyft/lib/python3.6/site-packages/tensorflow/python/ops/array_ops.py\", line 1551, in zeros\n",
      "    output = _constant_if_small(zero, shape, dtype, name)\n",
      "  File \"/home/sam/miniconda3/envs/pysyft/lib/python3.6/site-packages/tensorflow/python/ops/array_ops.py\", line 1509, in _constant_if_small\n",
      "    return constant(value, shape=shape, dtype=dtype, name=name)\n",
      "  File \"/home/sam/miniconda3/envs/pysyft/lib/python3.6/site-packages/tensorflow/python/framework/constant_op.py\", line 214, in constant\n",
      "    name=name).outputs[0]\n",
      "  File \"/home/sam/miniconda3/envs/pysyft/lib/python3.6/site-packages/tensorflow/python/util/deprecation.py\", line 488, in new_func\n",
      "    return func(*args, **kwargs)\n",
      "  File \"/home/sam/miniconda3/envs/pysyft/lib/python3.6/site-packages/tensorflow/python/framework/ops.py\", line 3274, in create_op\n",
      "    op_def=op_def)\n",
      "  File \"/home/sam/miniconda3/envs/pysyft/lib/python3.6/site-packages/tensorflow/python/framework/ops.py\", line 1801, in __init__\n",
      "    for i, output_type in enumerate(output_types)\n",
      "  File \"/home/sam/miniconda3/envs/pysyft/lib/python3.6/site-packages/tensorflow/python/framework/ops.py\", line 1801, in <listcomp>\n",
      "    for i, output_type in enumerate(output_types)\n",
      "  File \"<ipython-input-6-249c1850a0a5>\", line 43, in new___init__\n",
      "    owner.register_object(self)\n",
      "  File \"../../syft/core/workers/base.py\", line 714, in register_object\n",
      "    if obj.owner == self.id:\n",
      "  File \"<ipython-input-6-249c1850a0a5>\", line 55, in owner\n",
      "    return sy.local_worker.get_worker(self.name.split(\"_\")[0])\n",
      "  File \"../../syft/core/workers/base.py\", line 466, in get_worker\n",
      "    logging.warning('Worker', self.id, 'couldnt recognize worker', id_or_worker)\n",
      "Message: 'Worker'\n",
      "Arguments: ('me', 'couldnt recognize worker', 'zeros')\n",
      "WARNING:root:Registering a pointer on non-owned syftTensor.\n"
     ]
    },
    {
     "name": "stdout",
     "output_type": "stream",
     "text": [
      "initializing\n",
      "zeros\n",
      "<class 'str'>\n",
      "initializing\n"
     ]
    },
    {
     "name": "stderr",
     "output_type": "stream",
     "text": [
      "--- Logging error ---\n",
      "Traceback (most recent call last):\n",
      "  File \"/home/sam/miniconda3/envs/pysyft/lib/python3.6/logging/__init__.py\", line 994, in emit\n",
      "    msg = self.format(record)\n",
      "  File \"/home/sam/miniconda3/envs/pysyft/lib/python3.6/logging/__init__.py\", line 840, in format\n",
      "    return fmt.format(record)\n",
      "  File \"/home/sam/miniconda3/envs/pysyft/lib/python3.6/logging/__init__.py\", line 577, in format\n",
      "    record.message = record.getMessage()\n",
      "  File \"/home/sam/miniconda3/envs/pysyft/lib/python3.6/logging/__init__.py\", line 338, in getMessage\n",
      "    msg = msg % self.args\n",
      "TypeError: not all arguments converted during string formatting\n",
      "Call stack:\n",
      "  File \"/home/sam/miniconda3/envs/pysyft/lib/python3.6/runpy.py\", line 193, in _run_module_as_main\n",
      "    \"__main__\", mod_spec)\n",
      "  File \"/home/sam/miniconda3/envs/pysyft/lib/python3.6/runpy.py\", line 85, in _run_code\n",
      "    exec(code, run_globals)\n",
      "  File \"/home/sam/miniconda3/envs/pysyft/lib/python3.6/site-packages/ipykernel_launcher.py\", line 16, in <module>\n",
      "    app.launch_new_instance()\n",
      "  File \"/home/sam/miniconda3/envs/pysyft/lib/python3.6/site-packages/traitlets/config/application.py\", line 658, in launch_instance\n",
      "    app.start()\n",
      "  File \"/home/sam/miniconda3/envs/pysyft/lib/python3.6/site-packages/ipykernel/kernelapp.py\", line 505, in start\n",
      "    self.io_loop.start()\n",
      "  File \"/home/sam/miniconda3/envs/pysyft/lib/python3.6/site-packages/tornado/platform/asyncio.py\", line 132, in start\n",
      "    self.asyncio_loop.run_forever()\n",
      "  File \"/home/sam/miniconda3/envs/pysyft/lib/python3.6/asyncio/base_events.py\", line 427, in run_forever\n",
      "    self._run_once()\n",
      "  File \"/home/sam/miniconda3/envs/pysyft/lib/python3.6/asyncio/base_events.py\", line 1440, in _run_once\n",
      "    handle._run()\n",
      "  File \"/home/sam/miniconda3/envs/pysyft/lib/python3.6/asyncio/events.py\", line 145, in _run\n",
      "    self._callback(*self._args)\n",
      "  File \"/home/sam/miniconda3/envs/pysyft/lib/python3.6/site-packages/tornado/ioloop.py\", line 758, in _run_callback\n",
      "    ret = callback()\n",
      "  File \"/home/sam/miniconda3/envs/pysyft/lib/python3.6/site-packages/tornado/stack_context.py\", line 300, in null_wrapper\n",
      "    return fn(*args, **kwargs)\n",
      "  File \"/home/sam/miniconda3/envs/pysyft/lib/python3.6/site-packages/tornado/gen.py\", line 1233, in inner\n",
      "    self.run()\n",
      "  File \"/home/sam/miniconda3/envs/pysyft/lib/python3.6/site-packages/tornado/gen.py\", line 1147, in run\n",
      "    yielded = self.gen.send(value)\n",
      "  File \"/home/sam/miniconda3/envs/pysyft/lib/python3.6/site-packages/ipykernel/kernelbase.py\", line 357, in process_one\n",
      "    yield gen.maybe_future(dispatch(*args))\n",
      "  File \"/home/sam/miniconda3/envs/pysyft/lib/python3.6/site-packages/tornado/gen.py\", line 326, in wrapper\n",
      "    yielded = next(result)\n",
      "  File \"/home/sam/miniconda3/envs/pysyft/lib/python3.6/site-packages/ipykernel/kernelbase.py\", line 267, in dispatch_shell\n",
      "    yield gen.maybe_future(handler(stream, idents, msg))\n",
      "  File \"/home/sam/miniconda3/envs/pysyft/lib/python3.6/site-packages/tornado/gen.py\", line 326, in wrapper\n",
      "    yielded = next(result)\n",
      "  File \"/home/sam/miniconda3/envs/pysyft/lib/python3.6/site-packages/ipykernel/kernelbase.py\", line 534, in execute_request\n",
      "    user_expressions, allow_stdin,\n",
      "  File \"/home/sam/miniconda3/envs/pysyft/lib/python3.6/site-packages/tornado/gen.py\", line 326, in wrapper\n",
      "    yielded = next(result)\n",
      "  File \"/home/sam/miniconda3/envs/pysyft/lib/python3.6/site-packages/ipykernel/ipkernel.py\", line 294, in do_execute\n",
      "    res = shell.run_cell(code, store_history=store_history, silent=silent)\n",
      "  File \"/home/sam/miniconda3/envs/pysyft/lib/python3.6/site-packages/ipykernel/zmqshell.py\", line 536, in run_cell\n",
      "    return super(ZMQInteractiveShell, self).run_cell(*args, **kwargs)\n",
      "  File \"/home/sam/miniconda3/envs/pysyft/lib/python3.6/site-packages/IPython/core/interactiveshell.py\", line 2819, in run_cell\n",
      "    raw_cell, store_history, silent, shell_futures)\n",
      "  File \"/home/sam/miniconda3/envs/pysyft/lib/python3.6/site-packages/IPython/core/interactiveshell.py\", line 2845, in _run_cell\n",
      "    return runner(coro)\n",
      "  File \"/home/sam/miniconda3/envs/pysyft/lib/python3.6/site-packages/IPython/core/async_helpers.py\", line 67, in _pseudo_sync_runner\n",
      "    coro.send(None)\n",
      "  File \"/home/sam/miniconda3/envs/pysyft/lib/python3.6/site-packages/IPython/core/interactiveshell.py\", line 3020, in run_cell_async\n",
      "    interactivity=interactivity, compiler=compiler, result=result)\n",
      "  File \"/home/sam/miniconda3/envs/pysyft/lib/python3.6/site-packages/IPython/core/interactiveshell.py\", line 3185, in run_ast_nodes\n",
      "    if (yield from self.run_code(code, result)):\n",
      "  File \"/home/sam/miniconda3/envs/pysyft/lib/python3.6/site-packages/IPython/core/interactiveshell.py\", line 3267, in run_code\n",
      "    exec(code_obj, self.user_global_ns, self.user_ns)\n",
      "  File \"<ipython-input-17-1dce7a9fac72>\", line 1, in <module>\n",
      "    pv = PointerVariable(tf.zeros([2]), name=\"pointer\")\n",
      "  File \"/home/sam/miniconda3/envs/pysyft/lib/python3.6/site-packages/tensorflow/python/ops/array_ops.py\", line 1551, in zeros\n",
      "    output = _constant_if_small(zero, shape, dtype, name)\n",
      "  File \"/home/sam/miniconda3/envs/pysyft/lib/python3.6/site-packages/tensorflow/python/ops/array_ops.py\", line 1509, in _constant_if_small\n",
      "    return constant(value, shape=shape, dtype=dtype, name=name)\n",
      "  File \"/home/sam/miniconda3/envs/pysyft/lib/python3.6/site-packages/tensorflow/python/framework/constant_op.py\", line 214, in constant\n",
      "    name=name).outputs[0]\n",
      "  File \"/home/sam/miniconda3/envs/pysyft/lib/python3.6/site-packages/tensorflow/python/util/deprecation.py\", line 488, in new_func\n",
      "    return func(*args, **kwargs)\n",
      "  File \"/home/sam/miniconda3/envs/pysyft/lib/python3.6/site-packages/tensorflow/python/framework/ops.py\", line 3274, in create_op\n",
      "    op_def=op_def)\n",
      "  File \"/home/sam/miniconda3/envs/pysyft/lib/python3.6/site-packages/tensorflow/python/framework/ops.py\", line 1801, in __init__\n",
      "    for i, output_type in enumerate(output_types)\n",
      "  File \"/home/sam/miniconda3/envs/pysyft/lib/python3.6/site-packages/tensorflow/python/framework/ops.py\", line 1801, in <listcomp>\n",
      "    for i, output_type in enumerate(output_types)\n",
      "  File \"<ipython-input-6-249c1850a0a5>\", line 43, in new___init__\n",
      "    owner.register_object(self)\n",
      "  File \"../../syft/core/workers/base.py\", line 720, in register_object\n",
      "    if(pointer.owner != self.id):\n",
      "  File \"<ipython-input-6-249c1850a0a5>\", line 55, in owner\n",
      "    return sy.local_worker.get_worker(self.name.split(\"_\")[0])\n",
      "  File \"../../syft/core/workers/base.py\", line 466, in get_worker\n",
      "    logging.warning('Worker', self.id, 'couldnt recognize worker', id_or_worker)\n",
      "Message: 'Worker'\n",
      "Arguments: ('me', 'couldnt recognize worker', 'zeros')\n"
     ]
    }
   ],
   "source": [
    "pv = PointerVariable(tf.zeros([2]), name=\"pointer\")"
   ]
  },
  {
   "cell_type": "code",
   "execution_count": null,
   "metadata": {},
   "outputs": [],
   "source": []
  },
  {
   "cell_type": "code",
   "execution_count": null,
   "metadata": {
    "scrolled": true
   },
   "outputs": [],
   "source": [
    "x_ = tf.placeholder(tf.float32, shape=[4,2], name=\"x-input\")\n",
    "y_ = tf.placeholder(tf.float32, shape=[4,1], name=\"y-input\")"
   ]
  },
  {
   "cell_type": "code",
   "execution_count": null,
   "metadata": {},
   "outputs": [],
   "source": [
    "x_"
   ]
  },
  {
   "cell_type": "code",
   "execution_count": null,
   "metadata": {},
   "outputs": [],
   "source": [
    "Theta1 = tf.Variable(tf.random_uniform([2,2], -1, 1), name=\"Theta1\")\n",
    "Theta2 = tf.Variable(tf.random_uniform([2,1], -1, 1), name=\"Theta2\")"
   ]
  },
  {
   "cell_type": "code",
   "execution_count": null,
   "metadata": {},
   "outputs": [],
   "source": [
    "Bias1 = tf.Variable(tf.zeros([2]), name=\"Bias1\")\n",
    "Bias2 = tf.Variable(tf.zeros([1]), name=\"Bias2\")"
   ]
  },
  {
   "cell_type": "code",
   "execution_count": null,
   "metadata": {},
   "outputs": [],
   "source": [
    "A2 = tf.sigmoid(tf.matmul(x_, Theta1) + Bias1)\n",
    "Hypothesis = tf.sigmoid(tf.matmul(A2, Theta2) + Bias2)"
   ]
  },
  {
   "cell_type": "code",
   "execution_count": null,
   "metadata": {},
   "outputs": [],
   "source": [
    "cost = tf.reduce_mean(( (y_ * tf.log(Hypothesis)) + \n",
    "        ((1 - y_) * tf.log(1.0 - Hypothesis)) ) * -1)"
   ]
  },
  {
   "cell_type": "code",
   "execution_count": null,
   "metadata": {},
   "outputs": [],
   "source": [
    "train_step = tf.train.GradientDescentOptimizer(0.01).minimize(cost)"
   ]
  },
  {
   "cell_type": "code",
   "execution_count": null,
   "metadata": {},
   "outputs": [],
   "source": [
    "XOR_X = [[0,0],[0,1],[1,0],[1,1]]\n",
    "XOR_Y = [[0],[1],[1],[0]]\n",
    "\n",
    "init = tf.global_variables_initializer()\n",
    "sess = tf.Session()\n",
    "sess.run(init)"
   ]
  },
  {
   "cell_type": "code",
   "execution_count": null,
   "metadata": {},
   "outputs": [],
   "source": [
    "for i in range(100000):\n",
    "    sess.run(train_step, feed_dict={x_: XOR_X, y_: XOR_Y})\n",
    "    \n",
    "    if i % 1000 == 0:\n",
    "        print('Epoch ', i)\n",
    "#         print('Hypothesis ', sess.run(Hypothesis, feed_dict={x_: XOR_X, y_: XOR_Y}))\n",
    "#         print('Theta1 ', sess.run(Theta1))\n",
    "#         print('Bias1 ', sess.run(Bias1))\n",
    "#         print('Theta2 ', sess.run(Theta2))\n",
    "#         print('Bias2 ', sess.run(Bias2))\n",
    "        print('cost ', sess.run(cost, feed_dict={x_: XOR_X, y_: XOR_Y}))"
   ]
  },
  {
   "cell_type": "code",
   "execution_count": null,
   "metadata": {},
   "outputs": [],
   "source": []
  },
  {
   "cell_type": "markdown",
   "metadata": {},
   "source": [
    "# Before PySyft"
   ]
  },
  {
   "cell_type": "code",
   "execution_count": null,
   "metadata": {},
   "outputs": [],
   "source": [
    "# architecture\n",
    "def multilayer_perceptron(x, weights, biases, keep_prob):\n",
    "    layer_1 = tf.add(tf.matmul(x, weights['h1']), biases['b1'])\n",
    "    layer_1 = tf.nn.relu(layer_1)\n",
    "    out_layer = tf.sigmoid(tf.matmul(layer_1, weights['out']) + biases['out'])\n",
    "    return out_layer"
   ]
  },
  {
   "cell_type": "code",
   "execution_count": null,
   "metadata": {},
   "outputs": [],
   "source": [
    "# build net\n",
    "n_hidden_1 = 2\n",
    "n_input = XOR_X.shape[1]\n",
    "n_classes = XOR_Y.shape[1]\n",
    "\n",
    "weights = {\n",
    "    'h1': tf.Variable(tf.random_uniform(shape=[n_input, n_hidden_1],\n",
    "                                       minval=-1,\n",
    "                                       maxval=1),\n",
    "                      name=\"Theta1\"),\n",
    "    'out': tf.Variable(tf.random_uniform(shape=[n_hidden_1, n_classes],\n",
    "                                        minval=-1,\n",
    "                                        maxval=1),\n",
    "                       name=\"Theta2\")\n",
    "}\n",
    "\n",
    "\n",
    "biases = {\n",
    "    'b1': tf.Variable(tf.zeros([n_hidden_1]),\n",
    "                      name=\"Bias1\"),\n",
    "    'out': tf.Variable(tf.zeros([n_classes]),\n",
    "                       name=\"Bias2\")\n",
    "}\n",
    "\n",
    "# training params\n",
    "\n",
    "n_epochs = 10000\n",
    "display_step = 1000\n",
    "batch_size = 1\n",
    "\n",
    "# set up placeholders\n",
    "x = tf.placeholder(\"float\", [None, n_input])\n",
    "y = tf.placeholder(\"float\", [None, n_classes])\n",
    "\n",
    "# set up net symbolic tensors\n",
    "predictions = multilayer_perceptron(x, weights, biases, keep_prob)\n",
    "cost = tf.reduce_mean(( (y * tf.log(predictions)) + ((1 - y) * tf.log(1.0 - predictions)) ) * -1)\n",
    "optimizer = tf.train.GradientDescentOptimizer(learning_rate=1e-2).minimize(cost)"
   ]
  },
  {
   "cell_type": "code",
   "execution_count": null,
   "metadata": {},
   "outputs": [],
   "source": [
    "# train\n",
    "\n",
    "with tf.Session() as sess:\n",
    "    sess.run(tf.global_variables_initializer())\n",
    "    \n",
    "    for epoch in range(n_epochs+1):\n",
    "        avg_cost = 0.0\n",
    "\n",
    "        _, c = sess.run([optimizer, cost],\n",
    "                        feed_dict={\n",
    "                            x: XOR_X, \n",
    "                            y: XOR_Y,\n",
    "                        })\n",
    "        avg_cost += c / n_epochs\n",
    "        if epoch % display_step == 0:\n",
    "            print(\"Epoch: {:04d}\\nCost: {:.9f}\".format(epoch, avg_cost))\n",
    "    \n",
    "    correct_prediction = tf.equal(tf.argmax(predictions, 1), tf.argmax(y,1))\n",
    "    accuracy = tf.reduce_mean(tf.cast(correct_prediction, \"float\"))\n",
    "    print(\"\\nAccuracy: {:.2f}\".format(accuracy.eval({x: XOR_X, y: XOR_Y})))"
   ]
  }
 ],
 "metadata": {
  "kernelspec": {
   "display_name": "Python 3",
   "language": "python",
   "name": "python3"
  },
  "language_info": {
   "codemirror_mode": {
    "name": "ipython",
    "version": 3
   },
   "file_extension": ".py",
   "mimetype": "text/x-python",
   "name": "python",
   "nbconvert_exporter": "python",
   "pygments_lexer": "ipython3",
   "version": "3.6.7"
  }
 },
 "nbformat": 4,
 "nbformat_minor": 2
}
